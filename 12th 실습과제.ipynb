{
 "cells": [
  {
   "cell_type": "code",
   "execution_count": 4,
   "id": "1b53ef1e-ee43-4209-b7d4-56b1e5226988",
   "metadata": {},
   "outputs": [
    {
     "name": "stdout",
     "output_type": "stream",
     "text": [
      "[(1, 2, 4)]로 1개를 만들 수 있습니다.\n",
      "[(1, 2, 4), (1, 4, 6), (2, 7, 4), (7, 4, 6)]로 4개를 만들 수 있습니다.\n"
     ]
    }
   ],
   "source": [
    "#해당 함수를 만들기 위해서 생각해야할 것은 총 3가지입니다.\n",
    "##1. nums에서 숫자를 할당하는 것\n",
    "##2. 할당한 숫자를 합하는 것\n",
    "##3. 합한 숫자를 소수인지 판별하는 것.\n",
    "\n",
    "#차례대로 해결방법을 생각한다면 먼제 1번의 경우에는 itertools.combination을 활용할 수 있습니다. itertools.combination은 반복가능한 요소들에서 조합을 찾는 라이브러리입니다.\n",
    "##반복 가능한 요소를 nums를 설정하는 것으로 생각할 수 있습니다.\n",
    "##itertools의 combination을 사용하여 숫자를 할당할 목적이기 때문에 import 합니다.\n",
    "from itertools import combinations\n",
    "\n",
    "#세 수를 더 했을 때 소수인지 확인하기 위한 함수를 제작합니다. 물론 숫자를 합할 때 if문을 집어 넣어 함수 하나로 활용할 수도 있지만 더 깔끔한 함수를 위해 따로 함수를 만듭니다.\n",
    "##이 함수의 경우 n의 제곱근인 i를 구하여 n과 나누었을 경우 1과 n이외의 다른 나누어 떨어지는 수가 있다는 의미이므로 소수가 아니라고 판정됩니다.\n",
    "def is_prime(n):\n",
    "    if n<=0:\n",
    "        return False\n",
    "    for i in range(2,int(n**0.5)+1):\n",
    "        if n%i==0:\n",
    "            return False\n",
    "    return True\n",
    "\n",
    "#다음은 이 할당한 숫자를 합하는 함수를 만듭니다.\n",
    "##combination을 통해 숫자를 할당한 것을 합하고, 그 합한 값을 is_prime함수를 통해 소수인지 확인힙니다.\n",
    "###이때 생각해봐야할 것은 소수일 경우에 합당한 num, 즉 result가 필요하고\n",
    "###동시에 소수일 경우에의 횟수를 찾기 위한 count가 할당되어야 할 것입니다.\n",
    "def solution(nums):\n",
    "    count=0\n",
    "    result=[]\n",
    "    comb = combinations(nums,3)\n",
    "    #combination 라이브러리를 comb로 정의합니다. 할당할 문자를 3개로 설정합니다.\n",
    "    for total in comb:\n",
    "    #반복문으로 comb로 할당한 숫자 3개를 total로 정의합니다.\n",
    "        sum_=sum(total)\n",
    "        if is_prime(sum_):\n",
    "            count+=1\n",
    "            result.append(total)\n",
    "        #함수 is_prime에서 소수를 판별하고 소수일 경우 갯수를 확인하는 count가 1개 증가하고, 해당 total을 result에 기록합니다.\n",
    "            \n",
    "    return f\"{result}로 {count}개를 만들 수 있습니다.\"\n",
    "\n",
    "num1=[1,2,3,4]\n",
    "num2=[1,2,7,4,6]\n",
    "\n",
    "print(solution(num1))\n",
    "print(solution(num2))"
   ]
  },
  {
   "cell_type": "code",
   "execution_count": null,
   "id": "b6210cfc-d27c-4e72-b003-ed128b7ed58b",
   "metadata": {},
   "outputs": [],
   "source": []
  }
 ],
 "metadata": {
  "kernelspec": {
   "display_name": "Python 3 (ipykernel)",
   "language": "python",
   "name": "python3"
  },
  "language_info": {
   "codemirror_mode": {
    "name": "ipython",
    "version": 3
   },
   "file_extension": ".py",
   "mimetype": "text/x-python",
   "name": "python",
   "nbconvert_exporter": "python",
   "pygments_lexer": "ipython3",
   "version": "3.11.7"
  }
 },
 "nbformat": 4,
 "nbformat_minor": 5
}
