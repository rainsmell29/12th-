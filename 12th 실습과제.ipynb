{
 "cells": [
  {
   "cell_type": "code",
   "execution_count": 2,
   "id": "1b53ef1e-ee43-4209-b7d4-56b1e5226988",
   "metadata": {},
   "outputs": [
    {
     "name": "stdout",
     "output_type": "stream",
     "text": [
      "[(1, 2, 4)]로 1개를 만들 수 있습니다.\n",
      "[(1, 2, 4), (1, 4, 6), (2, 7, 4), (7, 4, 6)]로 4개를 만들 수 있습니다.\n"
     ]
    }
   ],
   "source": [
    "#itertools의 combination을 사용하여 숫자를 할당할 목적이기 때문에 import 합니다.\n",
    "from itertools import combinations\n",
    "\n",
    "#세 수를 더 했을 때 소수인지 확인하기 위한 함수를 제작합니다.\n",
    "def is_prime(n):\n",
    "    if n<=0:\n",
    "        return False\n",
    "    for i in range(2,int(n**0.5)+1):\n",
    "        if n%i==0:\n",
    "            return False\n",
    "    return True\n",
    "\n",
    "#combination을 통해 숫자를 할당한 것을 합하고, 그 합한 값을 is_prime함수를 통해 소수인지 확인힙니다.\n",
    "def solution(nums):\n",
    "    count=0\n",
    "    result=[]\n",
    "    comb = combinations(nums,3)\n",
    "    for total in comb:\n",
    "        sum_=sum(total)\n",
    "        if is_prime(sum_):\n",
    "            count+=1\n",
    "            result.append(total)\n",
    "#sum_이 소수일 때, 갯수가 1 증가하고, 해당 3개지 숫자(total)이 result로 리스트로 증가합니다.\n",
    "    return f\"{result}로 {count}개를 만들 수 있습니다.\"\n",
    "\n",
    "num1=[1,2,3,4]\n",
    "num2=[1,2,7,4,6]\n",
    "\n",
    "print(solution(num1))\n",
    "print(solution(num2))"
   ]
  },
  {
   "cell_type": "code",
   "execution_count": null,
   "id": "b6210cfc-d27c-4e72-b003-ed128b7ed58b",
   "metadata": {},
   "outputs": [],
   "source": []
  }
 ],
 "metadata": {
  "kernelspec": {
   "display_name": "Python 3 (ipykernel)",
   "language": "python",
   "name": "python3"
  },
  "language_info": {
   "codemirror_mode": {
    "name": "ipython",
    "version": 3
   },
   "file_extension": ".py",
   "mimetype": "text/x-python",
   "name": "python",
   "nbconvert_exporter": "python",
   "pygments_lexer": "ipython3",
   "version": "3.11.7"
  }
 },
 "nbformat": 4,
 "nbformat_minor": 5
}
