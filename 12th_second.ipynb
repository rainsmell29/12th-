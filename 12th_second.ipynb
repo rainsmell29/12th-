{
  "nbformat": 4,
  "nbformat_minor": 0,
  "metadata": {
    "colab": {
      "provenance": [],
      "authorship_tag": "ABX9TyMDEtCntVZ5r8R5BOiLASjl",
      "include_colab_link": true
    },
    "kernelspec": {
      "name": "python3",
      "display_name": "Python 3"
    },
    "language_info": {
      "name": "python"
    }
  },
  "cells": [
    {
      "cell_type": "markdown",
      "metadata": {
        "id": "view-in-github",
        "colab_type": "text"
      },
      "source": [
        "<a href=\"https://colab.research.google.com/github/rainsmell29/12th-/blob/main/12th_second.ipynb\" target=\"_parent\"><img src=\"https://colab.research.google.com/assets/colab-badge.svg\" alt=\"Open In Colab\"/></a>"
      ]
    },
    {
      "cell_type": "code",
      "execution_count": 14,
      "metadata": {
        "id": "kkzM4fiTndPi",
        "colab": {
          "base_uri": "https://localhost:8080/"
        },
        "outputId": "23910f96-f1d6-4aee-d7ec-eef7157db9b0"
      },
      "outputs": [
        {
          "output_type": "stream",
          "name": "stdout",
          "text": [
            "앞면(head)와 뒷면(tail) 중 하나를 선택해주세요(앞면/뒷면): 앞면\n",
            "아깝습니다. 뒷면입니다.\n"
          ]
        }
      ],
      "source": [
        "import random\n",
        "def cointoss():\n",
        "    user = input(\"앞면(head)와 뒷면(tail) 중 하나를 선택해주세요(앞면/뒷면): \")\n",
        "    user_result =0\n",
        "    if user== \"앞면\":\n",
        "        user_result = 0\n",
        "    elif user== \"뒷면\":\n",
        "        user_result=1\n",
        "    else:\n",
        "        return \"잘못된 입력입니다. 다시 입력해주세요.\"\n",
        "\n",
        "    coin = random.randint(0,1)\n",
        "    coin_dict = {0:\"앞면\",1:\"뒷면\"}\n",
        "    if user_result==coin:\n",
        "        return \"축하합니다. {}입니다.\".format(coin_dict[coin])\n",
        "    else:\n",
        "        return \"아깝습니다. {}입니다.\".format(coin_dict[coin])\n",
        "\n",
        "result = cointoss()\n",
        "print(result)"
      ]
    },
    {
      "cell_type": "code",
      "source": [
        "import random\n",
        "def diceroll():\n",
        "    dice = random.randint(1,6)\n",
        "    return dice\n",
        "\n",
        "def dicegame():\n",
        "    p1 = input(\"P1 이름을 입력해주세요: \")\n",
        "    p2 = input(\"P2 이름을 입력해주세요: \")\n",
        "    start = input(\"게임을 시작하실 경우 Enter key를 입력해주세요: \")\n",
        "\n",
        "    if start== \"\":\n",
        "        d1 = diceroll()\n",
        "        d2 = diceroll()\n",
        "        print(f\"{p1}의 주사위 {d1}, {p2}의 주사위 {d2}\")\n",
        "        if d1>d2:\n",
        "            return f\"{p1} 승리!\"\n",
        "        elif d1<d2:\n",
        "            return f\"{p2} 승리!\"\n",
        "        else:\n",
        "            return \"무승부!\"\n",
        "    else:\n",
        "        return \"게임이 종료됩니다.\"\n",
        "\n",
        "dicegame = dicegame()\n",
        "print(dicegame)"
      ],
      "metadata": {
        "colab": {
          "base_uri": "https://localhost:8080/"
        },
        "id": "wByLTHKq6M91",
        "outputId": "fd3471c1-1aa4-466e-b9f8-456c8af4ce18"
      },
      "execution_count": 19,
      "outputs": [
        {
          "output_type": "stream",
          "name": "stdout",
          "text": [
            "P1 이름을 입력해주세요: ㅁ\n",
            "P2 이름을 입력해주세요: ㄴ\n",
            "게임을 시작하실 경우 Enter key를 입력해주세요: \n",
            "ㅁ주사위 2, ㄴ주사위 6\n",
            "ㄴ 승리!\n"
          ]
        }
      ]
    },
    {
      "cell_type": "code",
      "source": [
        "import random\n",
        "def lotto():\n",
        "    lotto = random.sample(range(1,46),6)\n",
        "    lotto.sort()\n",
        "    return lotto\n",
        "\n",
        "def in_lotto():\n",
        "    numbers=[]\n",
        "    while len(numbers)<6:\n",
        "        try:\n",
        "            num_ = int(input(\"1에서 45 사이의 로또 번호를 입력하세요. 현재 입력한 숫자 {}개: \".format(len(numbers))))\n",
        "            if num_<1 or num_>45:\n",
        "                print(\"1에서 45 사이의 값을 입력하세요.\")\n",
        "            elif num_ in numbers:\n",
        "                print(\"이미 입력한 수입니다.\")\n",
        "            else:\n",
        "                numbers.append(num_)\n",
        "        except:\n",
        "            print(\"유효한 수를 입력하세요.\")\n",
        "\n",
        "    numbers.sort()\n",
        "    lotto_num = lotto()\n",
        "    set_numbers=set(numbers)\n",
        "    set_lotto=set(lotto_num)\n",
        "    inter_lotto = len(set_numbers.intersection(set_lotto))\n",
        "    if inter_lotto==6:\n",
        "        return \"6개, 1등입니다.\"\n",
        "    elif inter_lotto==5:\n",
        "        return \"5개, 2등입니다.\"\n",
        "    elif inter_lotto==4:\n",
        "        return \"4개, 3등입니다.\"\n",
        "    elif inter_lotto==3:\n",
        "        return \"3개, 4등입니다.\"\n",
        "    elif inter_lotto==2:\n",
        "        return \"2개, 5등입니다.\"\n",
        "    elif inter_lotto==1:\n",
        "        return \"1개, 6등입니다.\"\n",
        "    else:\n",
        "        return \"당첨되지 않았습니다.\"\n",
        "\n",
        "lottey = in_lotto()\n",
        "print(lottey)"
      ],
      "metadata": {
        "colab": {
          "base_uri": "https://localhost:8080/"
        },
        "id": "RqWhGqHNJhwL",
        "outputId": "b6177e48-5cac-485e-8c6a-91a4e64badd1"
      },
      "execution_count": 32,
      "outputs": [
        {
          "output_type": "stream",
          "name": "stdout",
          "text": [
            "1에서 45 사이의 로또 번호를 입력하세요. 현재 입력한 숫자 0개: 5\n",
            "1에서 45 사이의 로또 번호를 입력하세요. 현재 입력한 숫자 1개: 7\n",
            "1에서 45 사이의 로또 번호를 입력하세요. 현재 입력한 숫자 2개: 11\n",
            "1에서 45 사이의 로또 번호를 입력하세요. 현재 입력한 숫자 3개: 26\n",
            "1에서 45 사이의 로또 번호를 입력하세요. 현재 입력한 숫자 4개: 36\n",
            "1에서 45 사이의 로또 번호를 입력하세요. 현재 입력한 숫자 5개: 41\n",
            "1개, 6등입니다.\n"
          ]
        }
      ]
    },
    {
      "cell_type": "code",
      "source": [],
      "metadata": {
        "id": "W-9rUHoSLYa9"
      },
      "execution_count": null,
      "outputs": []
    }
  ]
}