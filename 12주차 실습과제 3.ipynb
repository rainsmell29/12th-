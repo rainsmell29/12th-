{
 "cells": [
  {
   "cell_type": "code",
   "execution_count": 14,
   "id": "03b17802-11da-4251-9ba6-332f6e356069",
   "metadata": {},
   "outputs": [
    {
     "name": "stdin",
     "output_type": "stream",
     "text": [
      "첫 번째 자연수를 입력해주세요:  1\n",
      "두 번째 자연수를 입력해주세요:  0\n"
     ]
    },
    {
     "name": "stdout",
     "output_type": "stream",
     "text": [
      "a 혹은 b가 자연수가 아니거나, b가 0입니다.\n"
     ]
    }
   ],
   "source": [
    "#먼저 이 경우에서는 나눗셈이 가능한 경우와 가능하지 않는 경우 둘로 나눌 수 있기 때문에\n",
    "#후자의 경우를 함수가 작동하지 않을 때 사용하는 except를 \n",
    "#전자의 경우를 함수가 작동할 경우 출력되는 else로 배정합니다.\n",
    "#그리고 함수의 오류가 나올 수 있는 자연수를 입력하는 부분을 try로 배정합니다.\n",
    "\n",
    "try:\n",
    "    a=int(input(\"첫 번째 자연수를 입력해주세요: \"))\n",
    "    b=int(input(\"두 번째 자연수를 입력해주세요: \"))\n",
    "    result=a/b\n",
    "    #이때 result=a/b의 이유는 b가 0일 경우 나눗셈이 작동하지 않아야 하기 때문에, b가 0일 때의 오류를 염두한 것입니다.\n",
    "except:\n",
    "    print(\"a 혹은 b가 자연수가 아니거나, b가 0입니다.\")\n",
    "\n",
    "else:\n",
    "    print(a/b)\n",
    "    #이하 "
   ]
  },
  {
   "cell_type": "code",
   "execution_count": 12,
   "id": "417be565-a2b3-4374-ba8c-bf1760de6c44",
   "metadata": {},
   "outputs": [
    {
     "ename": "ZeroDivisionError",
     "evalue": "division by zero",
     "output_type": "error",
     "traceback": [
      "\u001b[1;31m---------------------------------------------------------------------------\u001b[0m",
      "\u001b[1;31mZeroDivisionError\u001b[0m                         Traceback (most recent call last)",
      "Cell \u001b[1;32mIn[12], line 1\u001b[0m\n\u001b[1;32m----> 1\u001b[0m \u001b[38;5;241m5\u001b[39m\u001b[38;5;241m/\u001b[39m\u001b[38;5;241m0\u001b[39m\n",
      "\u001b[1;31mZeroDivisionError\u001b[0m: division by zero"
     ]
    }
   ],
   "source": [
    "5/0"
   ]
  },
  {
   "cell_type": "code",
   "execution_count": null,
   "id": "30f56136-7160-40f0-abd0-8b675f98c4e8",
   "metadata": {},
   "outputs": [],
   "source": []
  }
 ],
 "metadata": {
  "kernelspec": {
   "display_name": "Python 3 (ipykernel)",
   "language": "python",
   "name": "python3"
  },
  "language_info": {
   "codemirror_mode": {
    "name": "ipython",
    "version": 3
   },
   "file_extension": ".py",
   "mimetype": "text/x-python",
   "name": "python",
   "nbconvert_exporter": "python",
   "pygments_lexer": "ipython3",
   "version": "3.11.7"
  }
 },
 "nbformat": 4,
 "nbformat_minor": 5
}
